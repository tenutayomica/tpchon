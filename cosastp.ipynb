{
 "cells": [
  {
   "cell_type": "code",
   "execution_count": null,
   "metadata": {},
   "outputs": [],
   "source": [
    "!pip install scikit-learn "
   ]
  },
  {
   "cell_type": "code",
   "execution_count": null,
   "metadata": {},
   "outputs": [],
   "source": [
    "import pandas as pd\n",
    "import matplotlib.pyplot as plt\n",
    "import seaborn as sns"
   ]
  },
  {
   "cell_type": "code",
   "execution_count": null,
   "metadata": {},
   "outputs": [],
   "source": [
    "from sklearn.linear_model import LinearRegression"
   ]
  },
  {
   "cell_type": "code",
   "execution_count": null,
   "metadata": {},
   "outputs": [],
   "source": [
    "wm_df = pd.read_csv(\"fashionnova_reviews.csv\")\n",
    "wm_df"
   ]
  },
  {
   "cell_type": "code",
   "execution_count": null,
   "metadata": {},
   "outputs": [],
   "source": [
    "wm_df[\"Review date\"] = pd.to_datetime(wm_df[\"Review date\"], format=\"%d-%m-%Y\")\n",
    "wm_df[\"Review date\"] = pd.to_numeric(wm_df[\"Review date\"])"
   ]
  },
  {
   "cell_type": "code",
   "execution_count": null,
   "metadata": {},
   "outputs": [],
   "source": [
    "wm_df[\"Review Date\"]"
   ]
  },
  {
   "cell_type": "code",
   "execution_count": null,
   "metadata": {},
   "outputs": [],
   "source": [
    "ndf = wm_df[[\"Review Date\", \"Review Count\", \"Rating\", \"Date Of Experience\"]]\n",
    "ndf.head()"
   ]
  },
  {
   "cell_type": "code",
   "execution_count": null,
   "metadata": {},
   "outputs": [],
   "source": [
    "ndf.hist()\n",
    "plt.show()"
   ]
  },
  {
   "cell_type": "code",
   "execution_count": null,
   "metadata": {},
   "outputs": [],
   "source": [
    "fig, axs = plt.subplots(2, 2, figsize=(10, 10))\n",
    "\n",
    "for i, e in enumerate(ndf[[\"Review Date\", \"Review Count\", \"Rating\", \"Date Of Experience\"]]):\n",
    "    axs[i // 2, i % 2].scatter(ndf[e], ndf[\"Date Of Experience\"], color=\"blue\")\n",
    "    axs[i // 2, i % 2].set_xlabel(e)\n",
    "    axs[i // 2, i % 2].set_ylabel(\"Date Of Experience\")"
   ]
  },
  {
   "cell_type": "code",
   "execution_count": null,
   "metadata": {},
   "outputs": [],
   "source": [
    "plt.figure(figsize=(12, 6))\n",
    "plt.subplot(1, 2, 1)\n",
    "sns.histplot(ndf[\"Date Of Experience\"], bins=20, kde=True)\n",
    "plt.title(\"Distribution of Date Of Experience\")"
   ]
  },
  {
   "cell_type": "code",
   "execution_count": null,
   "metadata": {},
   "outputs": [],
   "source": [
    "X = wm_df[[\"Date\", \"Review Count\", \"Rating\"]]  \n",
    "y = wm_df[\"Date Of Experience\"]\n",
    "\n",
    "print(X.shape)\n",
    "\n",
    "from sklearn.model_selection import train_test_split\n",
    "\n",
    "X_train, X_test, y_train, y_test = train_test_split(\n",
    "    X, y, test_size=0.2, random_state=42\n",
    ")\n",
    "\n",
    "X_train.shape, X_test.shape, y_train.shape, y_test.shape"
   ]
  },
  {
   "cell_type": "code",
   "execution_count": null,
   "metadata": {},
   "outputs": [],
   "source": [
    "from sklearn.linear_model import LinearRegression"
   ]
  },
  {
   "cell_type": "code",
   "execution_count": null,
   "metadata": {},
   "outputs": [],
   "source": [
    "lr_model = LinearRegression()\n",
    "lr_model.fit(X_train, y_train)\n",
    "y_pred = lr_model.predict(X_test)"
   ]
  },
  {
   "cell_type": "code",
   "execution_count": null,
   "metadata": {},
   "outputs": [],
   "source": [
    "from sklearn.metrics import mean_squared_error\n",
    "\n",
    "mse = mean_squared_error(y_test, y_pred)\n",
    "mse"
   ]
  },
  {
   "cell_type": "code",
   "execution_count": null,
   "metadata": {},
   "outputs": [],
   "source": [
    "mean_squared_error(y_train, lr_model.predict(X_train))"
   ]
  },
  {
   "cell_type": "code",
   "execution_count": null,
   "metadata": {},
   "outputs": [],
   "source": [
    "y_test.shape, y_pred.shape"
   ]
  },
  {
   "cell_type": "code",
   "execution_count": null,
   "metadata": {},
   "outputs": [],
   "source": [
    "plt.scatter(y_train, lr_model.predict(X_train))"
   ]
  },
  {
   "cell_type": "code",
   "execution_count": null,
   "metadata": {},
   "outputs": [],
   "source": [
    "plt.scatter(y_test, y_pred)\n"
   ]
  },
  {
   "cell_type": "code",
   "execution_count": null,
   "metadata": {},
   "outputs": [],
   "source": [
    "print(\"Coefficients:\", lr_model.coef_)\n",
    "print(\"Intercept:\", lr_model.intercept_)"
   ]
  },
  {
   "cell_type": "code",
   "execution_count": null,
   "metadata": {},
   "outputs": [],
   "source": [
    "from sklearn.datasets import load_fashionnova_reviews\n",
    "\n",
    "data_fashionnova_reviews = load_fashionnova_reviews()\n",
    "\n",
    "X_df = pd.DataFrame(data_fashionnova_reviews.data, columns=data_fashionnova_reviews.feature_names)\n",
    "y_df = pd.DataFrame(data_fashionnova_reviews.target, columns=[\"target\"])\n",
    "\n",
    "fashionnova_ds = pd.concat([X_df, y_df], axis=1)\n",
    "fashionnova_ds"
   ]
  },
  {
   "cell_type": "code",
   "execution_count": null,
   "metadata": {},
   "outputs": [],
   "source": [
    "fashionnova_ds.columns"
   ]
  },
  {
   "cell_type": "code",
   "execution_count": null,
   "metadata": {},
   "outputs": [],
   "source": [
    "cm = fashionnova_ds.corr()\n",
    "\n",
    "fig, ax = plt.subplots(figsize=(10, 10))\n",
    "ax.matshow(cm)\n",
    "plt.xticks(range(len(cm.columns)), cm.columns)\n",
    "plt.xticks(rotation=90)\n",
    "plt.yticks(range(len(cm.columns)), cm.columns)\n",
    "\n",
    "plt.show()"
   ]
  },
  {
   "cell_type": "code",
   "execution_count": null,
   "metadata": {},
   "outputs": [],
   "source": [
    "fig, ax = plt.subplots(figsize=(10, 10))\n",
    "sns.heatmap(cm, ax=ax, cmap=\"mako\")\n",
    "plt.show()"
   ]
  },
  {
   "cell_type": "code",
   "execution_count": null,
   "metadata": {},
   "outputs": [],
   "source": [
    "fashionnova_ds[\"target\"].value_counts()"
   ]
  },
  {
   "cell_type": "code",
   "execution_count": null,
   "metadata": {},
   "outputs": [],
   "source": [
    "sns.histplot(fashionnova_ds[\"target\"], kde=True)"
   ]
  },
  {
   "cell_type": "code",
   "execution_count": null,
   "metadata": {},
   "outputs": [],
   "source": [
    "sns.histplot(fashionnova_ds[\"Review Count\"], kde=True)"
   ]
  },
  {
   "cell_type": "code",
   "execution_count": null,
   "metadata": {},
   "outputs": [],
   "source": [
    "ds_true = fashionnova_ds[fashionnova_ds[\"target\"] == 1]\n",
    "ds_false = fashionnova_ds[fashionnova_ds[\"target\"] == 0]\n",
    "\n",
    "fig, ax = plt.subplots(figsize=(10, 6))\n",
    "\n",
    "sns.histplot(ds_true[\"Review Count\"], kde=True, color=\"red\", ax=ax)\n",
    "sns.histplot(ds_false[\"Review Count\"], kde=True, color=\"blue\", ax=ax)\n",
    "\n",
    "fig.legend(labels=[\"consultar\", \"consultar\"])"
   ]
  },
  {
   "cell_type": "code",
   "execution_count": null,
   "metadata": {},
   "outputs": [],
   "source": [
    "ds_true = fashionnova_ds[fashionnova_ds[\"target\"] == 1]\n",
    "ds_false = fashionnova_ds[fashionnova_ds[\"target\"] == 0]\n",
    "\n",
    "fig, axs = plt.subplots(2, 2, figsize=(10, 6))\n",
    "\n",
    "sns.histplot(ds_true[\"Date\"], kde=True, color=\"red\", ax=axs[0, 0])\n",
    "sns.histplot(ds_false[\"Date\"], kde=True, color=\"blue\", ax=axs[0, 0])\n",
    "\n",
    "sns.histplot(ds_true[\"Date Of Experience\"], kde=True, color=\"red\", ax=axs[0, 1])\n",
    "sns.histplot(ds_false[\"Date Of Experience\"], kde=True, color=\"blue\", ax=axs[0, 1])\n",
    "\n",
    "sns.histplot(ds_true[\"Review Count\"], kde=True, color=\"red\", ax=axs[1, 0])\n",
    "sns.histplot(ds_false[\"Review Count\"], kde=True, color=\"blue\", ax=axs[1, 0])\n",
    "\n",
    "sns.histplot(ds_true[\"Rating\"], kde=True, color=\"red\", ax=axs[1, 1])\n",
    "sns.histplot(ds_false[\"Rating\"], kde=True, color=\"blue\", ax=axs[1, 1])\n",
    "Good= fashionnova_ds[\"Rating\"] >= 4\n",
    "Bad = fashionnova_ds[\"Rating\"] <= 4\n",
    "fig.legend(labels=[Good, Bad])\n",
    "\n",
    "fig.tight_layout()"
   ]
  },
  {
   "cell_type": "code",
   "execution_count": null,
   "metadata": {},
   "outputs": [],
   "source": [
    "sns.pairplot(fashionnova_ds, hue=\"target\")"
   ]
  },
  {
   "cell_type": "code",
   "execution_count": null,
   "metadata": {},
   "outputs": [],
   "source": [
    "seed = 42\n",
    "\n",
    "X_train, X_test, y_train, y_test = train_test_split(X_df, y_df, test_size=0.2, random_state=seed)"
   ]
  },
  {
   "cell_type": "code",
   "execution_count": null,
   "metadata": {},
   "outputs": [],
   "source": [
    "from sklearn.linear_model import LogisticRegression\n",
    "\n",
    "log_model = LogisticRegression()\n",
    "log_model.fit(X_train, y_train.values.ravel())"
   ]
  },
  {
   "cell_type": "code",
   "execution_count": null,
   "metadata": {},
   "outputs": [],
   "source": [
    "y_pred = log_model.predict(X_test)"
   ]
  },
  {
   "cell_type": "code",
   "execution_count": null,
   "metadata": {},
   "outputs": [],
   "source": [
    "from sklearn.metrics import accuracy_score\n",
    "from sklearn.metrics import confusion_matrix\n",
    "\n",
    "accuracy = accuracy_score(y_test, y_pred)\n",
    "print(\"Accuracy:\", accuracy)\n",
    "\n",
    "cm = confusion_matrix(y_test, y_pred)\n",
    "\n",
    "fig, ax = plt.subplots(figsize=(10, 6))\n",
    "sns.heatmap(cm, annot=True, ax=ax)\n",
    "_ = plt.xlabel(\"Predicted\")\n",
    "_ = plt.ylabel(\"Actual\")"
   ]
  },
  {
   "cell_type": "code",
   "execution_count": null,
   "metadata": {},
   "outputs": [],
   "source": [
    "from sklearn.metrics import classification_report\n",
    "\n",
    "print(classification_report(y_test, y_pred))"
   ]
  },
  {
   "cell_type": "code",
   "execution_count": null,
   "metadata": {},
   "outputs": [],
   "source": [
    "from sklearn.pipeline import Pipeline\n",
    "from sklearn.preprocessing import StandardScaler\n",
    "\n",
    "pipe = Pipeline([\n",
    "    (\"scaler\", StandardScaler()), \n",
    "    (\"logistic\", LogisticRegression())\n",
    "])\n",
    "\n",
    "pipe.fit(X_train, y_train.values.ravel())\n",
    "\n",
    "y_pred_scale = pipe.predict(X_test)\n",
    "\n",
    "accuracy = accuracy_score(y_test, y_pred_scale)\n",
    "cm = confusion_matrix(y_test, y_pred_scale)\n",
    "\n",
    "print(\"Accuracy:\", accuracy)\n",
    "\n",
    "fig, ax = plt.subplots(figsize=(10, 6))\n",
    "sns.heatmap(cm, annot=True, ax=ax)\n",
    "_ = plt.xlabel(\"Predicted\")\n",
    "_ = plt.ylabel(\"Actual\")"
   ]
  },
  {
   "cell_type": "code",
   "execution_count": null,
   "metadata": {},
   "outputs": [],
   "source": [
    "print(\"Coefficients:\", log_model.coef_)\n",
    "print(\"Intercept:\", log_model.intercept_)"
   ]
  },
  {
   "cell_type": "code",
   "execution_count": null,
   "metadata": {},
   "outputs": [],
   "source": [
    "fig, ax = plt.subplots(figsize=(10, 8))\n",
    "\n",
    "ax.barh(X_df.columns, log_model.coef_[0])"
   ]
  },
  {
   "cell_type": "code",
   "execution_count": null,
   "metadata": {},
   "outputs": [],
   "source": [
    "import numpy as np\n",
    "\n",
    "fig, ax = plt.subplots(figsize=(10, 8))\n",
    "\n",
    "feature_importances = pd.DataFrame(\n",
    "    {\"column\": X_df.columns, \"coef\": np.abs(log_model.coef_[0])}\n",
    ").sort_values(by=\"coef\", ascending=True)\n",
    "\n",
    "ax.barh(feature_importances[\"column\"], feature_importances[\"coef\"])"
   ]
  },
  {
   "cell_type": "code",
   "execution_count": null,
   "metadata": {},
   "outputs": [],
   "source": []
  },
  {
   "cell_type": "code",
   "execution_count": null,
   "metadata": {},
   "outputs": [],
   "source": []
  }
 ],
 "metadata": {
  "interpreter": {
   "hash": "2be5faf79681da6f2a61fdfdd5405d65d042280f7fba6178067603e3a2925119"
  },
  "kernelspec": {
   "display_name": "Python 3.10.0 64-bit",
   "language": "python",
   "name": "python3"
  },
  "language_info": {
   "name": "python",
   "version": "3.10.0"
  },
  "orig_nbformat": 4
 },
 "nbformat": 4,
 "nbformat_minor": 2
}
